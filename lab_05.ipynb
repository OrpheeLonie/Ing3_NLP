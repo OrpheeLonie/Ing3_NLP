{
  "cells": [
    {
      "cell_type": "code",
      "execution_count": null,
      "metadata": {
        "id": "Pi9Hke3h8Ijp"
      },
      "outputs": [],
      "source": [
        "! pip install -U torchtext==0.12 torchdata==0.3.0 spacy torch sacrebleu\n",
        "! python -m spacy download en_core_web_sm\n",
        "! python -m spacy download de_core_news_sm"
      ]
    },
    {
      "cell_type": "code",
      "execution_count": 2,
      "metadata": {
        "id": "ysmLfuTF8Ijr"
      },
      "outputs": [],
      "source": [
        "from torchtext.data.utils import get_tokenizer\n",
        "from torchtext.vocab import build_vocab_from_iterator\n",
        "from torchtext.datasets import multi30k, Multi30k\n",
        "from typing import Iterable, List\n",
        "\n",
        "\n",
        "# We need to modify the URLs for the dataset since the links to the original dataset are broken\n",
        "# Refer to https://github.com/pytorch/text/issues/1756#issuecomment-1163664163 for more info\n",
        "multi30k.URL[\"train\"] = \"https://raw.githubusercontent.com/neychev/small_DL_repo/master/datasets/Multi30k/training.tar.gz\"\n",
        "multi30k.URL[\"valid\"] = \"https://raw.githubusercontent.com/neychev/small_DL_repo/master/datasets/Multi30k/validation.tar.gz\"\n",
        "\n",
        "SRC_LANGUAGE = 'de'\n",
        "TGT_LANGUAGE = 'en'\n",
        "\n",
        "# Place-holders\n",
        "token_transform = {}\n",
        "vocab_transform = {}\n",
        "\n",
        "\n",
        "# Create source and target language tokenizer. Make sure to install the dependencies.\n",
        "token_transform[SRC_LANGUAGE] = get_tokenizer('spacy', language='de_core_news_sm')\n",
        "token_transform[TGT_LANGUAGE] = get_tokenizer('spacy', language='en_core_web_sm')\n",
        "\n",
        "\n",
        "# helper function to yield list of tokens\n",
        "def yield_tokens(data_iter: Iterable, language: str) -> List[str]:\n",
        "    language_index = {SRC_LANGUAGE: 0, TGT_LANGUAGE: 1}\n",
        "\n",
        "    for data_sample in data_iter:\n",
        "        yield token_transform[language](data_sample[language_index[language]])"
      ]
    },
    {
      "cell_type": "code",
      "source": [
        "# Define special symbols and indices\n",
        "UNK_IDX, PAD_IDX, BOS_IDX, EOS_IDX = 0, 1, 2, 3\n",
        "# Make sure the tokens are in order of their indices to properly insert them in vocab\n",
        "special_symbols = ['<unk>', '<pad>', '<bos>', '<eos>']\n",
        "\n",
        "for ln in [SRC_LANGUAGE, TGT_LANGUAGE]:\n",
        "    # Training data Iterator\n",
        "    train_iter = Multi30k(split='train', language_pair=(SRC_LANGUAGE, TGT_LANGUAGE))\n",
        "    # Create torchtext's Vocab object\n",
        "    vocab_transform[ln] = build_vocab_from_iterator(yield_tokens(train_iter, ln),\n",
        "                                                    min_freq=1,\n",
        "                                                    specials=special_symbols,\n",
        "                                                    special_first=True)\n",
        "\n",
        "# Set UNK_IDX as the default index. This index is returned when the token is not found.\n",
        "# If not set, it throws RuntimeError when the queried token is not found in the Vocabulary.\n",
        "for ln in [SRC_LANGUAGE, TGT_LANGUAGE]:\n",
        "  vocab_transform[ln].set_default_index(UNK_IDX)"
      ],
      "metadata": {
        "id": "KmiqHTgwswJc",
        "colab": {
          "base_uri": "https://localhost:8080/"
        },
        "outputId": "06fe059f-e3ae-45c6-ee29-08251cb4e39b"
      },
      "execution_count": 3,
      "outputs": [
        {
          "output_type": "stream",
          "name": "stderr",
          "text": [
            "/usr/local/lib/python3.7/dist-packages/torch/utils/data/datapipes/iter/combining.py:181: UserWarning: Some child DataPipes are not exhausted when __iter__ is called. We are resetting the buffer and each child DataPipe will read from the start again.\n",
            "  \"the buffer and each child DataPipe will read from the start again.\", UserWarning)\n"
          ]
        }
      ]
    },
    {
      "cell_type": "code",
      "source": [
        "from torch import Tensor\n",
        "import torch\n",
        "import torch.nn as nn\n",
        "from torch.nn import Transformer\n",
        "import math\n",
        "DEVICE = torch.device('cuda' if torch.cuda.is_available() else 'cpu')\n",
        "\n",
        "# helper Module that adds positional encoding to the token embedding to introduce a notion of word order.\n",
        "class PositionalEncoding(nn.Module):\n",
        "    def __init__(self,\n",
        "                 emb_size: int,\n",
        "                 dropout: float,\n",
        "                 maxlen: int = 5000):\n",
        "        super(PositionalEncoding, self).__init__()\n",
        "        den = torch.exp(- torch.arange(0, emb_size, 2)* math.log(10000) / emb_size)\n",
        "        pos = torch.arange(0, maxlen).reshape(maxlen, 1)\n",
        "        pos_embedding = torch.zeros((maxlen, emb_size))\n",
        "        pos_embedding[:, 0::2] = torch.sin(pos * den)\n",
        "        pos_embedding[:, 1::2] = torch.cos(pos * den)\n",
        "        pos_embedding = pos_embedding.unsqueeze(-2)\n",
        "\n",
        "        self.dropout = nn.Dropout(dropout)\n",
        "        self.register_buffer('pos_embedding', pos_embedding)\n",
        "\n",
        "    def forward(self, token_embedding: Tensor):\n",
        "        return self.dropout(token_embedding + self.pos_embedding[:token_embedding.size(0), :])\n",
        "\n",
        "# helper Module to convert tensor of input indices into corresponding tensor of token embeddings\n",
        "class TokenEmbedding(nn.Module):\n",
        "    def __init__(self, vocab_size: int, emb_size):\n",
        "        super(TokenEmbedding, self).__init__()\n",
        "        self.embedding = nn.Embedding(vocab_size, emb_size)\n",
        "        self.emb_size = emb_size\n",
        "\n",
        "    def forward(self, tokens: Tensor):\n",
        "        return self.embedding(tokens.long()) * math.sqrt(self.emb_size)\n",
        "\n",
        "# Seq2Seq Network\n",
        "class Seq2SeqTransformer(nn.Module):\n",
        "    def __init__(self,\n",
        "                 num_encoder_layers: int,\n",
        "                 num_decoder_layers: int,\n",
        "                 emb_size: int,\n",
        "                 nhead: int,\n",
        "                 src_vocab_size: int,\n",
        "                 tgt_vocab_size: int,\n",
        "                 dim_feedforward: int = 512,\n",
        "                 dropout: float = 0.1):\n",
        "        super(Seq2SeqTransformer, self).__init__()\n",
        "        self.transformer = Transformer(d_model=emb_size,\n",
        "                                       nhead=nhead,\n",
        "                                       num_encoder_layers=num_encoder_layers,\n",
        "                                       num_decoder_layers=num_decoder_layers,\n",
        "                                       dim_feedforward=dim_feedforward,\n",
        "                                       dropout=dropout)\n",
        "        self.generator = nn.Linear(emb_size, tgt_vocab_size)\n",
        "        self.src_tok_emb = TokenEmbedding(src_vocab_size, emb_size)\n",
        "        self.tgt_tok_emb = TokenEmbedding(tgt_vocab_size, emb_size)\n",
        "        self.positional_encoding = PositionalEncoding(\n",
        "            emb_size, dropout=dropout)\n",
        "\n",
        "    def forward(self,\n",
        "                src: Tensor,\n",
        "                trg: Tensor,\n",
        "                src_mask: Tensor,\n",
        "                tgt_mask: Tensor,\n",
        "                src_padding_mask: Tensor,\n",
        "                tgt_padding_mask: Tensor,\n",
        "                memory_key_padding_mask: Tensor):\n",
        "        src_emb = self.positional_encoding(self.src_tok_emb(src))\n",
        "        tgt_emb = self.positional_encoding(self.tgt_tok_emb(trg))\n",
        "        outs = self.transformer(src_emb, tgt_emb, src_mask, tgt_mask, None,\n",
        "                                src_padding_mask, tgt_padding_mask, memory_key_padding_mask)\n",
        "        return self.generator(outs)\n",
        "\n",
        "    def encode(self, src: Tensor, src_mask: Tensor):\n",
        "        return self.transformer.encoder(self.positional_encoding(\n",
        "                            self.src_tok_emb(src)), src_mask)\n",
        "\n",
        "    def decode(self, tgt: Tensor, memory: Tensor, tgt_mask: Tensor):\n",
        "        return self.transformer.decoder(self.positional_encoding(\n",
        "                          self.tgt_tok_emb(tgt)), memory,\n",
        "                          tgt_mask)"
      ],
      "metadata": {
        "id": "ROlMI-bNR4qo"
      },
      "execution_count": 4,
      "outputs": []
    },
    {
      "cell_type": "code",
      "source": [
        "def generate_square_subsequent_mask(sz):\n",
        "    mask = (torch.triu(torch.ones((sz, sz), device=DEVICE)) == 1).transpose(0, 1)\n",
        "    mask = mask.float().masked_fill(mask == 0, float('-inf')).masked_fill(mask == 1, float(0.0))\n",
        "    return mask\n",
        "\n",
        "\n",
        "def create_mask(src, tgt):\n",
        "    src_seq_len = src.shape[0]\n",
        "    tgt_seq_len = tgt.shape[0]\n",
        "\n",
        "    tgt_mask = generate_square_subsequent_mask(tgt_seq_len)\n",
        "    src_mask = torch.zeros((src_seq_len, src_seq_len),device=DEVICE).type(torch.bool)\n",
        "\n",
        "    src_padding_mask = (src == PAD_IDX).transpose(0, 1)\n",
        "    tgt_padding_mask = (tgt == PAD_IDX).transpose(0, 1)\n",
        "    return src_mask, tgt_mask, src_padding_mask, tgt_padding_mask"
      ],
      "metadata": {
        "id": "lruBA3FoSAYu"
      },
      "execution_count": 5,
      "outputs": []
    },
    {
      "cell_type": "code",
      "source": [
        "torch.manual_seed(0)\n",
        "\n",
        "SRC_VOCAB_SIZE = len(vocab_transform[SRC_LANGUAGE])\n",
        "TGT_VOCAB_SIZE = len(vocab_transform[TGT_LANGUAGE])\n",
        "EMB_SIZE = 512\n",
        "NHEAD = 8\n",
        "FFN_HID_DIM = 512\n",
        "BATCH_SIZE = 128\n",
        "NUM_ENCODER_LAYERS = 3\n",
        "NUM_DECODER_LAYERS = 3\n",
        "\n",
        "transformer = Seq2SeqTransformer(NUM_ENCODER_LAYERS, NUM_DECODER_LAYERS, EMB_SIZE,\n",
        "                                 NHEAD, SRC_VOCAB_SIZE, TGT_VOCAB_SIZE, FFN_HID_DIM)\n",
        "\n",
        "for p in transformer.parameters():\n",
        "    if p.dim() > 1:\n",
        "        nn.init.xavier_uniform_(p)\n",
        "\n",
        "transformer = transformer.to(DEVICE)\n",
        "\n",
        "loss_fn = torch.nn.CrossEntropyLoss(ignore_index=PAD_IDX)\n",
        "\n",
        "optimizer = torch.optim.Adam(transformer.parameters(), lr=0.0001, betas=(0.9, 0.98), eps=1e-9)"
      ],
      "metadata": {
        "id": "4Rcz7RBHSPhz"
      },
      "execution_count": 6,
      "outputs": []
    },
    {
      "cell_type": "code",
      "source": [
        "from torch.nn.utils.rnn import pad_sequence\n",
        "\n",
        "# helper function to club together sequential operations\n",
        "def sequential_transforms(*transforms):\n",
        "    def func(txt_input):\n",
        "        for transform in transforms:\n",
        "            txt_input = transform(txt_input)\n",
        "        return txt_input\n",
        "    return func\n",
        "\n",
        "# function to add BOS/EOS and create tensor for input sequence indices\n",
        "def tensor_transform(token_ids: List[int]):\n",
        "    return torch.cat((torch.tensor([BOS_IDX]),\n",
        "                      torch.tensor(token_ids),\n",
        "                      torch.tensor([EOS_IDX])))\n",
        "\n",
        "# src and tgt language text transforms to convert raw strings into tensors indices\n",
        "text_transform = {}\n",
        "for ln in [SRC_LANGUAGE, TGT_LANGUAGE]:\n",
        "    text_transform[ln] = sequential_transforms(token_transform[ln], #Tokenization\n",
        "                                               vocab_transform[ln], #Numericalization\n",
        "                                               tensor_transform) # Add BOS/EOS and create tensor\n",
        "\n",
        "\n",
        "# function to collate data samples into batch tesors\n",
        "def collate_fn(batch):\n",
        "    src_batch, tgt_batch = [], []\n",
        "    for src_sample, tgt_sample in batch:\n",
        "        src_batch.append(text_transform[SRC_LANGUAGE](src_sample.rstrip(\"\\n\")))\n",
        "        tgt_batch.append(text_transform[TGT_LANGUAGE](tgt_sample.rstrip(\"\\n\")))\n",
        "\n",
        "    src_batch = pad_sequence(src_batch, padding_value=PAD_IDX)\n",
        "    tgt_batch = pad_sequence(tgt_batch, padding_value=PAD_IDX)\n",
        "    return src_batch, tgt_batch"
      ],
      "metadata": {
        "id": "sWNST4LgSRRX"
      },
      "execution_count": 7,
      "outputs": []
    },
    {
      "cell_type": "code",
      "source": [
        "from torch.utils.data import DataLoader\n",
        "\n",
        "def train_epoch(model, optimizer):\n",
        "    model.train()\n",
        "    losses = 0\n",
        "    train_iter = Multi30k(split='train', language_pair=(SRC_LANGUAGE, TGT_LANGUAGE))\n",
        "    train_dataloader = DataLoader(train_iter, batch_size=BATCH_SIZE, collate_fn=collate_fn)\n",
        "\n",
        "    for src, tgt in train_dataloader:\n",
        "        src = src.to(DEVICE)\n",
        "        tgt = tgt.to(DEVICE)\n",
        "\n",
        "        tgt_input = tgt[:-1, :]\n",
        "\n",
        "        src_mask, tgt_mask, src_padding_mask, tgt_padding_mask = create_mask(src, tgt_input)\n",
        "\n",
        "        logits = model(src, tgt_input, src_mask, tgt_mask,src_padding_mask, tgt_padding_mask, src_padding_mask)\n",
        "\n",
        "        optimizer.zero_grad()\n",
        "\n",
        "        tgt_out = tgt[1:, :]\n",
        "        loss = loss_fn(logits.reshape(-1, logits.shape[-1]), tgt_out.reshape(-1))\n",
        "        loss.backward()\n",
        "\n",
        "        optimizer.step()\n",
        "        losses += loss.item()\n",
        "\n",
        "    return losses / len(list(train_dataloader))\n",
        "\n",
        "\n",
        "def evaluate(model):\n",
        "    model.eval()\n",
        "    losses = 0\n",
        "\n",
        "    val_iter = Multi30k(split='valid', language_pair=(SRC_LANGUAGE, TGT_LANGUAGE))\n",
        "    val_dataloader = DataLoader(val_iter, batch_size=BATCH_SIZE, collate_fn=collate_fn)\n",
        "\n",
        "    for src, tgt in val_dataloader:\n",
        "        src = src.to(DEVICE)\n",
        "        tgt = tgt.to(DEVICE)\n",
        "\n",
        "        tgt_input = tgt[:-1, :]\n",
        "\n",
        "        src_mask, tgt_mask, src_padding_mask, tgt_padding_mask = create_mask(src, tgt_input)\n",
        "\n",
        "        logits = model(src, tgt_input, src_mask, tgt_mask,src_padding_mask, tgt_padding_mask, src_padding_mask)\n",
        "\n",
        "        tgt_out = tgt[1:, :]\n",
        "        loss = loss_fn(logits.reshape(-1, logits.shape[-1]), tgt_out.reshape(-1))\n",
        "        losses += loss.item()\n",
        "\n",
        "    return losses / len(list(val_dataloader)) # FIXME there was an error there "
      ],
      "metadata": {
        "id": "lSisZAinSWq7"
      },
      "execution_count": 8,
      "outputs": []
    },
    {
      "cell_type": "code",
      "source": [
        "from timeit import default_timer as timer\n",
        "NUM_EPOCHS = 18\n",
        "\n",
        "for epoch in range(1, NUM_EPOCHS+1):\n",
        "    start_time = timer()\n",
        "    train_loss = train_epoch(transformer, optimizer)\n",
        "    end_time = timer()\n",
        "    val_loss = evaluate(transformer)\n",
        "    print((f\"Epoch: {epoch}, Train loss: {train_loss:.3f}, Val loss: {val_loss:.3f}, \"f\"Epoch time = {(end_time - start_time):.3f}s\"))\n",
        "\n"
      ],
      "metadata": {
        "colab": {
          "base_uri": "https://localhost:8080/"
        },
        "id": "66mteOKdSWe5",
        "outputId": "8deb3f13-c69f-4ac9-ab33-3bd4d4911987"
      },
      "execution_count": 9,
      "outputs": [
        {
          "output_type": "stream",
          "name": "stdout",
          "text": [
            "Epoch: 1, Train loss: 5.344, Val loss: 4.114, Epoch time = 43.224s\n",
            "Epoch: 2, Train loss: 3.761, Val loss: 3.320, Epoch time = 45.285s\n",
            "Epoch: 3, Train loss: 3.162, Val loss: 2.895, Epoch time = 46.171s\n",
            "Epoch: 4, Train loss: 2.768, Val loss: 2.638, Epoch time = 45.586s\n",
            "Epoch: 5, Train loss: 2.481, Val loss: 2.441, Epoch time = 45.907s\n",
            "Epoch: 6, Train loss: 2.250, Val loss: 2.318, Epoch time = 45.652s\n",
            "Epoch: 7, Train loss: 2.060, Val loss: 2.204, Epoch time = 46.242s\n",
            "Epoch: 8, Train loss: 1.897, Val loss: 2.114, Epoch time = 47.509s\n",
            "Epoch: 9, Train loss: 1.754, Val loss: 2.060, Epoch time = 45.676s\n",
            "Epoch: 10, Train loss: 1.632, Val loss: 2.001, Epoch time = 45.691s\n",
            "Epoch: 11, Train loss: 1.524, Val loss: 1.971, Epoch time = 46.212s\n",
            "Epoch: 12, Train loss: 1.420, Val loss: 1.944, Epoch time = 46.449s\n",
            "Epoch: 13, Train loss: 1.334, Val loss: 1.967, Epoch time = 45.844s\n",
            "Epoch: 14, Train loss: 1.252, Val loss: 1.932, Epoch time = 45.790s\n",
            "Epoch: 15, Train loss: 1.173, Val loss: 1.932, Epoch time = 45.945s\n",
            "Epoch: 16, Train loss: 1.103, Val loss: 1.926, Epoch time = 47.449s\n",
            "Epoch: 17, Train loss: 1.039, Val loss: 1.902, Epoch time = 45.678s\n",
            "Epoch: 18, Train loss: 0.980, Val loss: 1.911, Epoch time = 45.866s\n"
          ]
        }
      ]
    },
    {
      "cell_type": "code",
      "source": [
        "# function to generate output sequence using greedy algorithm\n",
        "def greedy_decode(model, src, src_mask, max_len, start_symbol):\n",
        "    src = src.to(DEVICE)\n",
        "    src_mask = src_mask.to(DEVICE)\n",
        "\n",
        "    memory = model.encode(src, src_mask)\n",
        "    ys = torch.ones(1, 1).fill_(start_symbol).type(torch.long).to(DEVICE)\n",
        "    for i in range(max_len-1):\n",
        "        memory = memory.to(DEVICE)\n",
        "        tgt_mask = (generate_square_subsequent_mask(ys.size(0))\n",
        "                    .type(torch.bool)).to(DEVICE)\n",
        "\n",
        "        out = model.decode(ys, memory, tgt_mask)\n",
        "        out = out.transpose(0, 1)\n",
        "        #decoder prediction\n",
        "        prob = model.generator(out[:, -1])\n",
        "        #greedy selection\n",
        "        _, next_word = torch.max(prob, dim=1)\n",
        "        next_word = next_word.item()\n",
        "\n",
        "        ys = torch.cat([ys,\n",
        "                        torch.ones(1, 1).type_as(src.data).fill_(next_word)], dim=0)\n",
        "        if next_word == EOS_IDX:\n",
        "            break\n",
        "    return ys"
      ],
      "metadata": {
        "id": "TLFGcxwF5kNh"
      },
      "execution_count": 10,
      "outputs": []
    },
    {
      "cell_type": "code",
      "source": [
        "# actual function to translate input sentence into target language\n",
        "def translate(model: torch.nn.Module, src_sentence: str):\n",
        "    model.eval()\n",
        "    src = text_transform[SRC_LANGUAGE](src_sentence).view(-1, 1)\n",
        "    num_tokens = src.shape[0]\n",
        "    src_mask = (torch.zeros(num_tokens, num_tokens)).type(torch.bool)\n",
        "    tgt_tokens = greedy_decode(\n",
        "        model,  src, src_mask, max_len=num_tokens + 5, start_symbol=BOS_IDX).flatten()\n",
        "    return \" \".join(vocab_transform[TGT_LANGUAGE].lookup_tokens(list(tgt_tokens.cpu().numpy()))).replace(\"<bos>\", \"\").replace(\"<eos>\", \"\")"
      ],
      "metadata": {
        "id": "akSnYbP-DH8v"
      },
      "execution_count": 11,
      "outputs": []
    },
    {
      "cell_type": "code",
      "source": [
        "print(translate(transformer, \"Der Hund läuft auf der Straße\"))"
      ],
      "metadata": {
        "id": "Gg9nB3CjSUre",
        "colab": {
          "base_uri": "https://localhost:8080/"
        },
        "outputId": "57b660f0-d633-4693-c5fd-0e3377131cd6"
      },
      "execution_count": 12,
      "outputs": [
        {
          "output_type": "stream",
          "name": "stdout",
          "text": [
            " The dog is running on the street . \n"
          ]
        }
      ]
    },
    {
      "cell_type": "markdown",
      "metadata": {
        "id": "DfueE1et8Ijt"
      },
      "source": [
        "## Decoding functions"
      ]
    },
    {
      "cell_type": "markdown",
      "source": [
        "#### 1.1 Top-K sampling without temperature\n",
        "Top-K sampling where the K next words are filtered and the probability mass is redistributed among only those K next words."
      ],
      "metadata": {
        "id": "277X8P7M3_MN"
      }
    },
    {
      "cell_type": "code",
      "source": [
        "def topk_decode(model : torch.nn.Module, src, src_mask, max_len : int, start_symbol, k : int):\n",
        "    \"\"\"\n",
        "    model - model\n",
        "    max_len - max length of the output\n",
        "    k - k number next words\n",
        "    \"\"\"\n",
        "    src = src.to(DEVICE)\n",
        "    src_mask = src_mask.to(DEVICE)\n",
        "\n",
        "    memory = model.encode(src, src_mask)\n",
        "    ys = torch.ones(1, 1).fill_(start_symbol).type(torch.long).to(DEVICE)\n",
        "    for i in range(max_len-1):\n",
        "        memory = memory.to(DEVICE)\n",
        "        tgt_mask = (generate_square_subsequent_mask(ys.size(0))\n",
        "                    .type(torch.bool)).to(DEVICE)\n",
        "\n",
        "        #decode in ys the tgt_mask\n",
        "        out = model.decode(ys, memory, tgt_mask)\n",
        "        out = out.transpose(0, 1)\n",
        "        prob = model.generator(out[:, -1])\n",
        "\n",
        "        #softmax the probability to normalize TODO\n",
        "        prob = torch.softmax(prob, dim=1)\n",
        "        \n",
        "        #topk selection\n",
        "        k_prob, k_index = torch.topk(prob, k=k, dim=1)\n",
        "        multi_index = torch.multinomial(k_prob, num_samples=1)\n",
        "        \n",
        "        #choosing next_word\n",
        "        next_word = k_index[0][multi_index].item()\n",
        "        ys = torch.cat([ys,\n",
        "                        torch.ones(1, 1).type_as(src.data).fill_(next_word)], dim=0)\n",
        "\n",
        "        if next_word == EOS_IDX:\n",
        "            break\n",
        "    return ys"
      ],
      "metadata": {
        "id": "vwaMkugBykRg"
      },
      "execution_count": 52,
      "outputs": []
    },
    {
      "cell_type": "code",
      "execution_count": 53,
      "metadata": {
        "id": "o8507sRv8Iju"
      },
      "outputs": [],
      "source": [
        "# actual function to translate input sentence into target language\n",
        "def translate_topk(model: torch.nn.Module, src_sentence: str):\n",
        "    model.eval()\n",
        "    src = text_transform[SRC_LANGUAGE](src_sentence).view(-1, 1)\n",
        "    num_tokens = src.shape[0]\n",
        "    src_mask = (torch.zeros(num_tokens, num_tokens)).type(torch.bool)\n",
        "    tgt_tokens = topk_decode(model,  src, src_mask, max_len=num_tokens + 5, start_symbol=BOS_IDX, k=5).flatten()\n",
        "    return \" \".join(vocab_transform[TGT_LANGUAGE].lookup_tokens(list(tgt_tokens.cpu().numpy()))).replace(\"<bos>\", \"\").replace(\"<eos>\", \"\")"
      ]
    },
    {
      "cell_type": "markdown",
      "source": [
        "When testing on some sentence we get a pretty decent result :"
      ],
      "metadata": {
        "id": "PFye8WBr1UbN"
      }
    },
    {
      "cell_type": "code",
      "source": [
        "print(translate_topk(transformer, \"Ein Mädchen spielt nicht gern Klavier\"))\n",
        "print(translate_topk(transformer, \"Der Hund läuft auf der Straße\"))\n",
        "print(translate_topk(transformer, \"Eine Gruppe von Menschen steht vor einem Iglu .\"))"
      ],
      "metadata": {
        "id": "AHryNhUiKV8m",
        "colab": {
          "base_uri": "https://localhost:8080/"
        },
        "outputId": "f9296c27-f6bb-4a7c-d8e1-29aa5946c427"
      },
      "execution_count": 54,
      "outputs": [
        {
          "output_type": "stream",
          "name": "stdout",
          "text": [
            " A girl playing music that does n't do a piano . \n",
            " The dog is walking on the street . \n",
            " A group of people standing in front of an auditorium . \n"
          ]
        }
      ]
    },
    {
      "cell_type": "markdown",
      "source": [
        "#### 1.2 Top-K sampling with temperature"
      ],
      "metadata": {
        "id": "re-TyLnYpXdT"
      }
    },
    {
      "cell_type": "code",
      "source": [
        "def topk_decode_temperature(model : torch.nn.Module, src, src_mask, max_len : int, start_symbol, k : int, temperature : float):\n",
        "    \"\"\"\n",
        "    model - model\n",
        "    max_len - max length of the output\n",
        "    k - k number next words\n",
        "    temeprature - \n",
        "    \"\"\"\n",
        "    src = src.to(DEVICE)\n",
        "    src_mask = src_mask.to(DEVICE)\n",
        "\n",
        "    memory = model.encode(src, src_mask)\n",
        "    ys = torch.ones(1, 1).fill_(start_symbol).type(torch.long).to(DEVICE)\n",
        "    for i in range(max_len-1):\n",
        "        memory = memory.to(DEVICE)\n",
        "        tgt_mask = (generate_square_subsequent_mask(ys.size(0))\n",
        "                    .type(torch.bool)).to(DEVICE)\n",
        "\n",
        "        #decode in ys the tgt_mask\n",
        "        out = model.decode(ys, memory, tgt_mask)\n",
        "        out = out.transpose(0, 1)\n",
        "        prob = model.generator(out[:, -1])\n",
        "\n",
        "        #softmax the probability to normalize TODO\n",
        "        prob = torch.softmax(prob, dim=1)\n",
        "        \n",
        "        #topk selection\n",
        "        top_k_prob, top_k_index = torch.topk(prob / temperature, k=k, dim=1)\n",
        "        multi_index = torch.multinomial(top_k_prob, num_samples=1)\n",
        "        \n",
        "        #choosing next_word\n",
        "        next_word = top_k_index[0][multi_index].item()\n",
        "        ys = torch.cat([ys,\n",
        "                        torch.ones(1, 1).type_as(src.data).fill_(next_word)], dim=0)\n",
        "\n",
        "        if next_word == EOS_IDX:\n",
        "            break\n",
        "    return ys"
      ],
      "metadata": {
        "id": "nHmZyBrhyu8J"
      },
      "execution_count": 55,
      "outputs": []
    },
    {
      "cell_type": "code",
      "source": [
        "# actual function to translate input sentence into target language\n",
        "def translate_topk_temperature(model: torch.nn.Module, src_sentence: str):\n",
        "    model.eval()\n",
        "    src = text_transform[SRC_LANGUAGE](src_sentence).view(-1, 1)\n",
        "    num_tokens = src.shape[0]\n",
        "    src_mask = (torch.zeros(num_tokens, num_tokens)).type(torch.bool)\n",
        "    tgt_tokens = topk_decode_temperature(model,  src, src_mask, max_len=num_tokens + 5, start_symbol=BOS_IDX, k=5, temperature=0.5).flatten()\n",
        "    return \" \".join(vocab_transform[TGT_LANGUAGE].lookup_tokens(list(tgt_tokens.cpu().numpy()))).replace(\"<bos>\", \"\").replace(\"<eos>\", \"\")"
      ],
      "metadata": {
        "id": "2jNyAX7W2jiA"
      },
      "execution_count": 56,
      "outputs": []
    },
    {
      "cell_type": "code",
      "source": [
        "print(translate_topk_temperature(transformer, \"Ein Mädchen spielt nicht gern Klavier\"))\n",
        "print(translate_topk_temperature(transformer, \"Der Hund läuft auf der Straße\"))\n",
        "print(translate_topk_temperature(transformer, \"Eine Gruppe von Menschen steht vor einem Iglu .\"))"
      ],
      "metadata": {
        "colab": {
          "base_uri": "https://localhost:8080/"
        },
        "id": "9Cio2tSS2qoI",
        "outputId": "dd180cf1-4158-42f3-800a-34aa4191cd9e"
      },
      "execution_count": 57,
      "outputs": [
        {
          "output_type": "stream",
          "name": "stdout",
          "text": [
            " The girl is performing yoga at the piano . \n",
            " The dog is running on the street \n",
            " A group of people standing in front an abandoned machines . \n"
          ]
        }
      ]
    },
    {
      "cell_type": "markdown",
      "source": [
        "#### 2. Beam search \n",
        "Will look over k number ahead to find the best probability among all the next steps."
      ],
      "metadata": {
        "id": "koHeUVeH3omJ"
      }
    },
    {
      "cell_type": "code",
      "source": [
        "def beam_decode(model : torch.nn.Module, src, src_mask, max_len : int, start_symbol, k : int):\n",
        "    \"\"\"\n",
        "      src: source sentence\n",
        "      src_mask: source mask\n",
        "      max_len: maximum length of output sentence\n",
        "      k: beam size\n",
        "    \"\"\"\n",
        "    src = src.to(DEVICE)\n",
        "    src_mask = src_mask.to(DEVICE)\n",
        "\n",
        "    memory = model.encode(src, src_mask)\n",
        "\n",
        "    #topk implementation\n",
        "    ys = torch.ones(1, 1).fill_(start_symbol).type(torch.long).to(DEVICE)\n",
        "    memory = memory.to(DEVICE)\n",
        "    tgt_mask = (generate_square_subsequent_mask(ys.size(0))\n",
        "                .type(torch.bool)).to(DEVICE)\n",
        "    out = model.decode(ys, memory, tgt_mask)\n",
        "    out = out.transpose(0, 1)\n",
        "    prob = model.generator(out[:, -1])\n",
        "    prob = torch.softmax(prob, dim=1)\n",
        "    k_prob, k_index = torch.topk(prob, k=k, dim=1)\n",
        "    random_index = torch.multinomial(k_prob, 1)\n",
        "        \n",
        "    next_word = k_index[0][random_index].item()\n",
        "    ys = torch.cat([ys,\n",
        "                    torch.ones(1, 1).type_as(src.data).fill_(next_word)], dim=0)\n",
        "    if next_word == EOS_IDX:\n",
        "        return ys\n",
        "\n",
        "    # to get the init \n",
        "    init_branch = {\n",
        "            \"memory\": memory,\n",
        "            \"ys\": ys,\n",
        "            \"score\": torch.multinomial(k_prob, 1).item()\n",
        "        }\n",
        "    branch = [init_branch] * k\n",
        "\n",
        "    for i in range(max_len-1):\n",
        "        new_branch = []\n",
        "        for elt in branch:\n",
        "            memory = elt[\"memory\"].to(DEVICE)\n",
        "            ys = elt[\"ys\"]\n",
        "            \n",
        "            #topk implementation\n",
        "            tgt_mask = (generate_square_subsequent_mask(ys.size(0))\n",
        "                        .type(torch.bool)).to(DEVICE)\n",
        "            out = model.decode(ys, memory, tgt_mask)\n",
        "            out = out.transpose(0, 1)\n",
        "            prob = model.generator(out[:, -1])\n",
        "            prob = torch.softmax(prob, dim=1)\n",
        "            k_prob, k_index = torch.topk(prob, k=k, dim=1)\n",
        "            score = torch.multinomial(k_prob, 1).item()\n",
        "\n",
        "            #get score for the next steps\n",
        "            for j in range(k):\n",
        "                next_word = k_index[0][j].item()\n",
        "                new_branch.append({\n",
        "                    \"memory\": memory,\n",
        "                    \"ys\": torch.cat([ys,\n",
        "                    torch.ones(1, 1).type_as(src.data).fill_(next_word)], dim=0),\n",
        "                    \"score\": elt[\"score\"] * score})\n",
        "        #sort the list of all new branch \n",
        "        new_branch = sorted(new_branch, key=lambda x: x[\"score\"], reverse=True)\n",
        "        branch = new_branch[:k]\n",
        "        ys = branch[0][\"ys\"]\n",
        "\n",
        "        if ys[-1] == EOS_IDX:\n",
        "            break\n",
        "        \n",
        "    return ys"
      ],
      "metadata": {
        "id": "sztKM_JPCLL8"
      },
      "execution_count": 58,
      "outputs": []
    },
    {
      "cell_type": "code",
      "source": [
        "# actual function to translate input sentence into target language\n",
        "def translate_beam(model: torch.nn.Module, src_sentence: str):\n",
        "    model.eval()\n",
        "    src = text_transform[SRC_LANGUAGE](src_sentence).view(-1, 1)\n",
        "    num_tokens = src.shape[0]\n",
        "    src_mask = (torch.zeros(num_tokens, num_tokens)).type(torch.bool)\n",
        "    tgt_tokens = beam_decode(\n",
        "        model,  src, src_mask, max_len=num_tokens + 5, start_symbol=BOS_IDX, k=5).flatten()\n",
        "    return \" \".join(vocab_transform[TGT_LANGUAGE].lookup_tokens(list(tgt_tokens.cpu().numpy()))).replace(\"<bos>\", \"\").replace(\"<eos>\", \"\")"
      ],
      "metadata": {
        "id": "GltamCFcDC8c"
      },
      "execution_count": 59,
      "outputs": []
    },
    {
      "cell_type": "code",
      "source": [
        "print(translate_beam(transformer, \"Der Hund läuft auf der Straße\"))"
      ],
      "metadata": {
        "colab": {
          "base_uri": "https://localhost:8080/"
        },
        "id": "EJ9LY0RZGeNs",
        "outputId": "2720d153-e289-4306-bbd8-33a0c37a694d"
      },
      "execution_count": 60,
      "outputs": [
        {
          "output_type": "stream",
          "name": "stdout",
          "text": [
            " The dog is running on the street . \n"
          ]
        }
      ]
    },
    {
      "cell_type": "markdown",
      "source": [
        "### 3. Comparison between the decoding functions"
      ],
      "metadata": {
        "id": "GN7ThpMRMOL8"
      }
    },
    {
      "cell_type": "code",
      "source": [
        "sentences = [\"Eine Hexe schaut aus dem Fenster\",\n",
        "             \"Abends geht das Licht auf der Straße aus\",\n",
        "             \"Ich brauche keinen Schlaf, ich brauche Antworten\"]\n",
        "traduction = [\"A witch is looking from the window\",\n",
        "              \"In the evening the lights go out on the street\",\n",
        "              \"I don't need sleep i need answers\"]"
      ],
      "metadata": {
        "id": "eebDDYEJGrV9"
      },
      "execution_count": 26,
      "outputs": []
    },
    {
      "cell_type": "code",
      "source": [
        "for i in range(3):\n",
        "  print(\"traduction ->\", traduction[i])\n",
        "  print(\"Greedy decoder -\",translate(transformer, sentences[i]))\n",
        "  print(\"Topk decoder -\",translate_topk(transformer, sentences[i]))\n",
        "  print(\"Topk temperature = 5 decoder -\",translate_topk_temperature(transformer, sentences[i]))\n",
        "  print(\"Beam decoder -\",translate_beam(transformer, sentences[i]), end=\"\\n\\n\")"
      ],
      "metadata": {
        "colab": {
          "base_uri": "https://localhost:8080/"
        },
        "id": "HaTZOUsaNbeI",
        "outputId": "6e5ac9e5-843c-44f5-a999-0d4456697cf7"
      },
      "execution_count": 27,
      "outputs": [
        {
          "output_type": "stream",
          "name": "stdout",
          "text": [
            "traduction -> A witch is looking from the window\n",
            "Greedy decoder -  A female female athlete is looking out the window . \n",
            "Topk decoder -  A college female female athlete takes out the window . \n",
            "Topk temperature = 5 decoder -  A black female gymnast looks out the window . \n",
            "Beam decoder -  A female female athlete is looking out the window . \n",
            "\n",
            "traduction -> In the evening the lights go out on the street\n",
            "Greedy decoder -  The waterskier is walking down the street . \n",
            "Topk decoder -  The trumpet player is walking down the street . \n",
            "Topk temperature = 5 decoder -  This trumpet players walk down the road \n",
            "Beam decoder -  The waterskier runs down the street . \n",
            "\n",
            "traduction -> I don't need sleep i need answers\n",
            "Greedy decoder -  I I I am are learning how to make this moment \n",
            "Topk decoder -  I I I am does this I am \n",
            "Topk temperature = 5 decoder -  I I see my arrow , my London \n",
            "Beam decoder -  I I I am are learning how to make this moment \n",
            "\n"
          ]
        }
      ]
    },
    {
      "cell_type": "markdown",
      "source": [
        "## Compute BLEU score"
      ],
      "metadata": {
        "id": "ucxD-THUZBaa"
      }
    },
    {
      "cell_type": "code",
      "source": [
        "from sacrebleu.metrics import BLEU"
      ],
      "metadata": {
        "id": "8oVY_HzTO3vf"
      },
      "execution_count": 30,
      "outputs": []
    },
    {
      "cell_type": "code",
      "source": [
        "bleu = BLEU()\n",
        "test_data = Multi30k(split='test', language_pair=(SRC_LANGUAGE, TGT_LANGUAGE))\n",
        "test_data"
      ],
      "metadata": {
        "colab": {
          "base_uri": "https://localhost:8080/"
        },
        "id": "bHNSKpxQn0Re",
        "outputId": "49ef0bae-5992-4344-f3ff-9612b9d6f7fb"
      },
      "execution_count": 67,
      "outputs": [
        {
          "output_type": "execute_result",
          "data": {
            "text/plain": [
              "<torch.utils.data.datapipes.iter.combining.ZipperIterDataPipe at 0x7fd3b4d835d0>"
            ]
          },
          "metadata": {},
          "execution_count": 67
        }
      ]
    },
    {
      "cell_type": "code",
      "source": [
        "#get from the test_data the reference sentence and traduction \n",
        "sys, refs = zip(*test_data)\n",
        "\n",
        "#takes list of list for the reference\n",
        "refs = [[elt] for elt in refs]\n",
        "\n",
        "#translate all traduction with each models\n",
        "sys_greedy = [(translate(transformer, elt)) for elt in sys]\n",
        "sys_topk = [(translate_topk(transformer, elt)) for elt in sys]\n",
        "sys_topk_t = [(translate_topk_temperature(transformer, elt)) for elt in sys]\n",
        "sys_beam = [(translate_beam(transformer, elt)) for elt in sys]"
      ],
      "metadata": {
        "colab": {
          "base_uri": "https://localhost:8080/"
        },
        "id": "9T4ZtfPGYU46",
        "outputId": "77532a17-7464-49d0-fa47-6cd1eb68410f"
      },
      "execution_count": null,
      "outputs": [
        {
          "output_type": "stream",
          "name": "stderr",
          "text": [
            "/usr/local/lib/python3.7/dist-packages/torch/utils/data/datapipes/iter/combining.py:181: UserWarning: Some child DataPipes are not exhausted when __iter__ is called. We are resetting the buffer and each child DataPipe will read from the start again.\n",
            "  \"the buffer and each child DataPipe will read from the start again.\", UserWarning)\n"
          ]
        }
      ]
    },
    {
      "cell_type": "code",
      "source": [
        "print(\"Greedy decode BLEU score:\")\n",
        "print(bleu.corpus_score(sys_greedy, refs), end=\"\\n\\n\")\n",
        "\n",
        "print(\"Top K decode BLEU score:\")\n",
        "print(bleu.corpus_score(sys_topk, refs), end=\"\\n\\n\")\n",
        "\n",
        "print(\"Top K temperature decode BLEU score:\")\n",
        "print(bleu.corpus_score(sys_topk_t, refs), end=\"\\n\\n\")\n",
        "\n",
        "print(\"Beam decode BLEU score:\")\n",
        "print(bleu.corpus_score(sys_beam, refs), end=\"\\n\\n\")"
      ],
      "metadata": {
        "colab": {
          "base_uri": "https://localhost:8080/"
        },
        "id": "YPHpm17zaxSD",
        "outputId": "f2fc802e-b694-4aa8-a7d3-e9d21eff3d83"
      },
      "execution_count": 70,
      "outputs": [
        {
          "output_type": "stream",
          "name": "stdout",
          "text": [
            "Greedy decode BLEU score:\n",
            "BLEU = 52.81 100.0/70.0/44.4/25.0 (BP = 1.000 ratio = 1.000 hyp_len = 11 ref_len = 11)\n",
            "\n",
            "Top K decode BLEU score:\n",
            "BLEU = 53.32 100.0/72.7/50.0/22.2 (BP = 1.000 ratio = 1.000 hyp_len = 12 ref_len = 12)\n",
            "\n",
            "Top K temperature decode BLEU score:\n",
            "BLEU = 58.44 100.0/70.0/44.4/37.5 (BP = 1.000 ratio = 1.000 hyp_len = 11 ref_len = 11)\n",
            "\n",
            "Beam decode BLEU score:\n",
            "BLEU = 52.81 100.0/70.0/44.4/25.0 (BP = 1.000 ratio = 1.000 hyp_len = 11 ref_len = 11)\n",
            "\n"
          ]
        }
      ]
    },
    {
      "cell_type": "markdown",
      "source": [
        "The value in the result given by the function corpus_score means :\n",
        "- BLEU = score bleu gives an evaluation of the model\n",
        "- the next numbers represent the precision\n",
        "- BP means brevily penalty\n",
        "- ratio is the length ratio\n",
        "- hyp_len is for the length of the hypotheisis\n",
        "- ref_len is for the length of the reference text"
      ],
      "metadata": {
        "id": "NKQubqSvh9BB"
      }
    },
    {
      "cell_type": "code",
      "source": [],
      "metadata": {
        "id": "upm649rEa1AA"
      },
      "execution_count": null,
      "outputs": []
    }
  ],
  "metadata": {
    "kernelspec": {
      "display_name": "Python 3.10.4 64-bit",
      "language": "python",
      "name": "python3"
    },
    "language_info": {
      "codemirror_mode": {
        "name": "ipython",
        "version": 3
      },
      "file_extension": ".py",
      "mimetype": "text/x-python",
      "name": "python",
      "nbconvert_exporter": "python",
      "pygments_lexer": "ipython3",
      "version": "3.10.4"
    },
    "orig_nbformat": 4,
    "vscode": {
      "interpreter": {
        "hash": "5f761ed62b3816e49cb11fdd2f71acd4baf071d655006f016f714fd3225f29c0"
      }
    },
    "colab": {
      "provenance": [],
      "collapsed_sections": [
        "277X8P7M3_MN",
        "re-TyLnYpXdT",
        "koHeUVeH3omJ",
        "GN7ThpMRMOL8"
      ]
    },
    "accelerator": "GPU",
    "gpuClass": "standard"
  },
  "nbformat": 4,
  "nbformat_minor": 0
}