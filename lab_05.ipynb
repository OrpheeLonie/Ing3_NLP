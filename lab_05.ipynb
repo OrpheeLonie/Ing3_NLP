{
  "cells": [
    {
      "cell_type": "code",
      "execution_count": null,
      "metadata": {
        "colab": {
          "base_uri": "https://localhost:8080/"
        },
        "id": "Pi9Hke3h8Ijp",
        "outputId": "706521b2-bdd1-43ea-a622-3b167f819ec2"
      },
      "outputs": [],
      "source": [
        "! pip install -U torchtext==0.12 torchdata==0.3.0 spacy torch\n",
        "! python -m spacy download en_core_web_sm\n",
        "! python -m spacy download de_core_news_sm"
      ]
    },
    {
      "cell_type": "code",
      "execution_count": 2,
      "metadata": {
        "id": "ysmLfuTF8Ijr"
      },
      "outputs": [],
      "source": [
        "from torchtext.data.utils import get_tokenizer\n",
        "from torchtext.vocab import build_vocab_from_iterator\n",
        "from torchtext.datasets import multi30k, Multi30k\n",
        "from typing import Iterable, List\n",
        "\n",
        "\n",
        "# We need to modify the URLs for the dataset since the links to the original dataset are broken\n",
        "# Refer to https://github.com/pytorch/text/issues/1756#issuecomment-1163664163 for more info\n",
        "multi30k.URL[\"train\"] = \"https://raw.githubusercontent.com/neychev/small_DL_repo/master/datasets/Multi30k/training.tar.gz\"\n",
        "multi30k.URL[\"valid\"] = \"https://raw.githubusercontent.com/neychev/small_DL_repo/master/datasets/Multi30k/validation.tar.gz\"\n",
        "\n",
        "SRC_LANGUAGE = 'de'\n",
        "TGT_LANGUAGE = 'en'\n",
        "\n",
        "# Place-holders\n",
        "token_transform = {}\n",
        "vocab_transform = {}\n",
        "\n",
        "\n",
        "# Create source and target language tokenizer. Make sure to install the dependencies.\n",
        "token_transform[SRC_LANGUAGE] = get_tokenizer('spacy', language='de_core_news_sm')\n",
        "token_transform[TGT_LANGUAGE] = get_tokenizer('spacy', language='en_core_web_sm')\n",
        "\n",
        "\n",
        "# helper function to yield list of tokens\n",
        "def yield_tokens(data_iter: Iterable, language: str) -> List[str]:\n",
        "    language_index = {SRC_LANGUAGE: 0, TGT_LANGUAGE: 1}\n",
        "\n",
        "    for data_sample in data_iter:\n",
        "        yield token_transform[language](data_sample[language_index[language]])"
      ]
    },
    {
      "cell_type": "code",
      "execution_count": 3,
      "metadata": {
        "colab": {
          "base_uri": "https://localhost:8080/"
        },
        "id": "KmiqHTgwswJc",
        "outputId": "473e7a7b-fe5c-4acd-a7aa-8eb8eef9a8ff"
      },
      "outputs": [
        {
          "name": "stderr",
          "output_type": "stream",
          "text": [
            "/usr/local/lib/python3.7/dist-packages/torch/utils/data/datapipes/iter/combining.py:181: UserWarning: Some child DataPipes are not exhausted when __iter__ is called. We are resetting the buffer and each child DataPipe will read from the start again.\n",
            "  \"the buffer and each child DataPipe will read from the start again.\", UserWarning)\n"
          ]
        }
      ],
      "source": [
        "# Define special symbols and indices\n",
        "UNK_IDX, PAD_IDX, BOS_IDX, EOS_IDX = 0, 1, 2, 3\n",
        "# Make sure the tokens are in order of their indices to properly insert them in vocab\n",
        "special_symbols = ['<unk>', '<pad>', '<bos>', '<eos>']\n",
        "\n",
        "for ln in [SRC_LANGUAGE, TGT_LANGUAGE]:\n",
        "    # Training data Iterator\n",
        "    train_iter = Multi30k(split='train', language_pair=(SRC_LANGUAGE, TGT_LANGUAGE))\n",
        "    # Create torchtext's Vocab object\n",
        "    vocab_transform[ln] = build_vocab_from_iterator(yield_tokens(train_iter, ln),\n",
        "                                                    min_freq=1,\n",
        "                                                    specials=special_symbols,\n",
        "                                                    special_first=True)\n",
        "\n",
        "# Set UNK_IDX as the default index. This index is returned when the token is not found.\n",
        "# If not set, it throws RuntimeError when the queried token is not found in the Vocabulary.\n",
        "for ln in [SRC_LANGUAGE, TGT_LANGUAGE]:\n",
        "  vocab_transform[ln].set_default_index(UNK_IDX)"
      ]
    },
    {
      "cell_type": "code",
      "execution_count": 4,
      "metadata": {
        "id": "ROlMI-bNR4qo"
      },
      "outputs": [],
      "source": [
        "from torch import Tensor\n",
        "import torch\n",
        "import torch.nn as nn\n",
        "from torch.nn import Transformer\n",
        "import math\n",
        "DEVICE = torch.device('cuda' if torch.cuda.is_available() else 'cpu')\n",
        "\n",
        "# helper Module that adds positional encoding to the token embedding to introduce a notion of word order.\n",
        "class PositionalEncoding(nn.Module):\n",
        "    def __init__(self,\n",
        "                 emb_size: int,\n",
        "                 dropout: float,\n",
        "                 maxlen: int = 5000):\n",
        "        super(PositionalEncoding, self).__init__()\n",
        "        den = torch.exp(- torch.arange(0, emb_size, 2)* math.log(10000) / emb_size)\n",
        "        pos = torch.arange(0, maxlen).reshape(maxlen, 1)\n",
        "        pos_embedding = torch.zeros((maxlen, emb_size))\n",
        "        pos_embedding[:, 0::2] = torch.sin(pos * den)\n",
        "        pos_embedding[:, 1::2] = torch.cos(pos * den)\n",
        "        pos_embedding = pos_embedding.unsqueeze(-2)\n",
        "\n",
        "        self.dropout = nn.Dropout(dropout)\n",
        "        self.register_buffer('pos_embedding', pos_embedding)\n",
        "\n",
        "    def forward(self, token_embedding: Tensor):\n",
        "        return self.dropout(token_embedding + self.pos_embedding[:token_embedding.size(0), :])\n",
        "\n",
        "# helper Module to convert tensor of input indices into corresponding tensor of token embeddings\n",
        "class TokenEmbedding(nn.Module):\n",
        "    def __init__(self, vocab_size: int, emb_size):\n",
        "        super(TokenEmbedding, self).__init__()\n",
        "        self.embedding = nn.Embedding(vocab_size, emb_size)\n",
        "        self.emb_size = emb_size\n",
        "\n",
        "    def forward(self, tokens: Tensor):\n",
        "        return self.embedding(tokens.long()) * math.sqrt(self.emb_size)\n",
        "\n",
        "# Seq2Seq Network\n",
        "class Seq2SeqTransformer(nn.Module):\n",
        "    def __init__(self,\n",
        "                 num_encoder_layers: int,\n",
        "                 num_decoder_layers: int,\n",
        "                 emb_size: int,\n",
        "                 nhead: int,\n",
        "                 src_vocab_size: int,\n",
        "                 tgt_vocab_size: int,\n",
        "                 dim_feedforward: int = 512,\n",
        "                 dropout: float = 0.1):\n",
        "        super(Seq2SeqTransformer, self).__init__()\n",
        "        self.transformer = Transformer(d_model=emb_size,\n",
        "                                       nhead=nhead,\n",
        "                                       num_encoder_layers=num_encoder_layers,\n",
        "                                       num_decoder_layers=num_decoder_layers,\n",
        "                                       dim_feedforward=dim_feedforward,\n",
        "                                       dropout=dropout)\n",
        "        self.generator = nn.Linear(emb_size, tgt_vocab_size)\n",
        "        self.src_tok_emb = TokenEmbedding(src_vocab_size, emb_size)\n",
        "        self.tgt_tok_emb = TokenEmbedding(tgt_vocab_size, emb_size)\n",
        "        self.positional_encoding = PositionalEncoding(\n",
        "            emb_size, dropout=dropout)\n",
        "\n",
        "    def forward(self,\n",
        "                src: Tensor,\n",
        "                trg: Tensor,\n",
        "                src_mask: Tensor,\n",
        "                tgt_mask: Tensor,\n",
        "                src_padding_mask: Tensor,\n",
        "                tgt_padding_mask: Tensor,\n",
        "                memory_key_padding_mask: Tensor):\n",
        "        src_emb = self.positional_encoding(self.src_tok_emb(src))\n",
        "        tgt_emb = self.positional_encoding(self.tgt_tok_emb(trg))\n",
        "        outs = self.transformer(src_emb, tgt_emb, src_mask, tgt_mask, None,\n",
        "                                src_padding_mask, tgt_padding_mask, memory_key_padding_mask)\n",
        "        return self.generator(outs)\n",
        "\n",
        "    def encode(self, src: Tensor, src_mask: Tensor):\n",
        "        return self.transformer.encoder(self.positional_encoding(\n",
        "                            self.src_tok_emb(src)), src_mask)\n",
        "\n",
        "    def decode(self, tgt: Tensor, memory: Tensor, tgt_mask: Tensor):\n",
        "        return self.transformer.decoder(self.positional_encoding(\n",
        "                          self.tgt_tok_emb(tgt)), memory,\n",
        "                          tgt_mask)"
      ]
    },
    {
      "cell_type": "code",
      "execution_count": 5,
      "metadata": {
        "id": "lruBA3FoSAYu"
      },
      "outputs": [],
      "source": [
        "def generate_square_subsequent_mask(sz):\n",
        "    mask = (torch.triu(torch.ones((sz, sz), device=DEVICE)) == 1).transpose(0, 1)\n",
        "    mask = mask.float().masked_fill(mask == 0, float('-inf')).masked_fill(mask == 1, float(0.0))\n",
        "    return mask\n",
        "\n",
        "\n",
        "def create_mask(src, tgt):\n",
        "    src_seq_len = src.shape[0]\n",
        "    tgt_seq_len = tgt.shape[0]\n",
        "\n",
        "    tgt_mask = generate_square_subsequent_mask(tgt_seq_len)\n",
        "    src_mask = torch.zeros((src_seq_len, src_seq_len),device=DEVICE).type(torch.bool)\n",
        "\n",
        "    src_padding_mask = (src == PAD_IDX).transpose(0, 1)\n",
        "    tgt_padding_mask = (tgt == PAD_IDX).transpose(0, 1)\n",
        "    return src_mask, tgt_mask, src_padding_mask, tgt_padding_mask"
      ]
    },
    {
      "cell_type": "code",
      "execution_count": 6,
      "metadata": {
        "id": "4Rcz7RBHSPhz"
      },
      "outputs": [],
      "source": [
        "torch.manual_seed(0)\n",
        "\n",
        "SRC_VOCAB_SIZE = len(vocab_transform[SRC_LANGUAGE])\n",
        "TGT_VOCAB_SIZE = len(vocab_transform[TGT_LANGUAGE])\n",
        "EMB_SIZE = 512\n",
        "NHEAD = 8\n",
        "FFN_HID_DIM = 512\n",
        "BATCH_SIZE = 128\n",
        "NUM_ENCODER_LAYERS = 3\n",
        "NUM_DECODER_LAYERS = 3\n",
        "\n",
        "transformer = Seq2SeqTransformer(NUM_ENCODER_LAYERS, NUM_DECODER_LAYERS, EMB_SIZE,\n",
        "                                 NHEAD, SRC_VOCAB_SIZE, TGT_VOCAB_SIZE, FFN_HID_DIM)\n",
        "\n",
        "for p in transformer.parameters():\n",
        "    if p.dim() > 1:\n",
        "        nn.init.xavier_uniform_(p)\n",
        "\n",
        "transformer = transformer.to(DEVICE)\n",
        "\n",
        "loss_fn = torch.nn.CrossEntropyLoss(ignore_index=PAD_IDX)\n",
        "\n",
        "optimizer = torch.optim.Adam(transformer.parameters(), lr=0.0001, betas=(0.9, 0.98), eps=1e-9)"
      ]
    },
    {
      "cell_type": "code",
      "execution_count": 7,
      "metadata": {
        "id": "sWNST4LgSRRX"
      },
      "outputs": [],
      "source": [
        "from torch.nn.utils.rnn import pad_sequence\n",
        "\n",
        "# helper function to club together sequential operations\n",
        "def sequential_transforms(*transforms):\n",
        "    def func(txt_input):\n",
        "        for transform in transforms:\n",
        "            txt_input = transform(txt_input)\n",
        "        return txt_input\n",
        "    return func\n",
        "\n",
        "# function to add BOS/EOS and create tensor for input sequence indices\n",
        "def tensor_transform(token_ids: List[int]):\n",
        "    return torch.cat((torch.tensor([BOS_IDX]),\n",
        "                      torch.tensor(token_ids),\n",
        "                      torch.tensor([EOS_IDX])))\n",
        "\n",
        "# src and tgt language text transforms to convert raw strings into tensors indices\n",
        "text_transform = {}\n",
        "for ln in [SRC_LANGUAGE, TGT_LANGUAGE]:\n",
        "    text_transform[ln] = sequential_transforms(token_transform[ln], #Tokenization\n",
        "                                               vocab_transform[ln], #Numericalization\n",
        "                                               tensor_transform) # Add BOS/EOS and create tensor\n",
        "\n",
        "\n",
        "# function to collate data samples into batch tesors\n",
        "def collate_fn(batch):\n",
        "    src_batch, tgt_batch = [], []\n",
        "    for src_sample, tgt_sample in batch:\n",
        "        src_batch.append(text_transform[SRC_LANGUAGE](src_sample.rstrip(\"\\n\")))\n",
        "        tgt_batch.append(text_transform[TGT_LANGUAGE](tgt_sample.rstrip(\"\\n\")))\n",
        "\n",
        "    src_batch = pad_sequence(src_batch, padding_value=PAD_IDX)\n",
        "    tgt_batch = pad_sequence(tgt_batch, padding_value=PAD_IDX)\n",
        "    return src_batch, tgt_batch"
      ]
    },
    {
      "cell_type": "code",
      "execution_count": 8,
      "metadata": {
        "id": "lSisZAinSWq7"
      },
      "outputs": [],
      "source": [
        "from torch.utils.data import DataLoader\n",
        "\n",
        "def train_epoch(model, optimizer):\n",
        "    model.train()\n",
        "    losses = 0\n",
        "    train_iter = Multi30k(split='train', language_pair=(SRC_LANGUAGE, TGT_LANGUAGE))\n",
        "    train_dataloader = DataLoader(train_iter, batch_size=BATCH_SIZE, collate_fn=collate_fn)\n",
        "\n",
        "    for src, tgt in train_dataloader:\n",
        "        src = src.to(DEVICE)\n",
        "        tgt = tgt.to(DEVICE)\n",
        "\n",
        "        tgt_input = tgt[:-1, :]\n",
        "\n",
        "        src_mask, tgt_mask, src_padding_mask, tgt_padding_mask = create_mask(src, tgt_input)\n",
        "\n",
        "        logits = model(src, tgt_input, src_mask, tgt_mask,src_padding_mask, tgt_padding_mask, src_padding_mask)\n",
        "\n",
        "        optimizer.zero_grad()\n",
        "\n",
        "        tgt_out = tgt[1:, :]\n",
        "        loss = loss_fn(logits.reshape(-1, logits.shape[-1]), tgt_out.reshape(-1))\n",
        "        loss.backward()\n",
        "\n",
        "        optimizer.step()\n",
        "        losses += loss.item()\n",
        "\n",
        "    return losses / len(list(train_dataloader))\n",
        "\n",
        "\n",
        "def evaluate(model):\n",
        "    model.eval()\n",
        "    losses = 0\n",
        "\n",
        "    val_iter = Multi30k(split='valid', language_pair=(SRC_LANGUAGE, TGT_LANGUAGE))\n",
        "    val_dataloader = DataLoader(val_iter, batch_size=BATCH_SIZE, collate_fn=collate_fn)\n",
        "\n",
        "    for src, tgt in val_dataloader:\n",
        "        src = src.to(DEVICE)\n",
        "        tgt = tgt.to(DEVICE)\n",
        "\n",
        "        tgt_input = tgt[:-1, :]\n",
        "\n",
        "        src_mask, tgt_mask, src_padding_mask, tgt_padding_mask = create_mask(src, tgt_input)\n",
        "\n",
        "        logits = model(src, tgt_input, src_mask, tgt_mask,src_padding_mask, tgt_padding_mask, src_padding_mask)\n",
        "\n",
        "        tgt_out = tgt[1:, :]\n",
        "        loss = loss_fn(logits.reshape(-1, logits.shape[-1]), tgt_out.reshape(-1))\n",
        "        losses += loss.item()\n",
        "\n",
        "    return losses / len(list(val_dataloader)) # FIXME there was an error there "
      ]
    },
    {
      "cell_type": "code",
      "execution_count": 9,
      "metadata": {
        "colab": {
          "base_uri": "https://localhost:8080/"
        },
        "id": "66mteOKdSWe5",
        "outputId": "830f0dd3-cce8-42c7-ece3-3b4b7a9a3a7b"
      },
      "outputs": [
        {
          "name": "stdout",
          "output_type": "stream",
          "text": [
            "Epoch: 1, Train loss: 5.344, Val loss: 4.114, Epoch time = 42.386s\n",
            "Epoch: 2, Train loss: 3.761, Val loss: 3.320, Epoch time = 43.677s\n",
            "Epoch: 3, Train loss: 3.162, Val loss: 2.895, Epoch time = 45.961s\n",
            "Epoch: 4, Train loss: 2.768, Val loss: 2.639, Epoch time = 46.378s\n",
            "Epoch: 5, Train loss: 2.481, Val loss: 2.442, Epoch time = 46.655s\n",
            "Epoch: 6, Train loss: 2.250, Val loss: 2.315, Epoch time = 46.308s\n",
            "Epoch: 7, Train loss: 2.060, Val loss: 2.207, Epoch time = 46.434s\n",
            "Epoch: 8, Train loss: 1.897, Val loss: 2.115, Epoch time = 46.395s\n",
            "Epoch: 9, Train loss: 1.754, Val loss: 2.060, Epoch time = 46.439s\n",
            "Epoch: 10, Train loss: 1.631, Val loss: 2.002, Epoch time = 46.310s\n",
            "Epoch: 11, Train loss: 1.523, Val loss: 1.973, Epoch time = 47.170s\n",
            "Epoch: 12, Train loss: 1.419, Val loss: 1.941, Epoch time = 46.473s\n",
            "Epoch: 13, Train loss: 1.333, Val loss: 1.970, Epoch time = 46.563s\n",
            "Epoch: 14, Train loss: 1.252, Val loss: 1.945, Epoch time = 46.429s\n",
            "Epoch: 15, Train loss: 1.174, Val loss: 1.934, Epoch time = 46.393s\n",
            "Epoch: 16, Train loss: 1.103, Val loss: 1.923, Epoch time = 46.859s\n",
            "Epoch: 17, Train loss: 1.039, Val loss: 1.903, Epoch time = 46.884s\n",
            "Epoch: 18, Train loss: 0.979, Val loss: 1.915, Epoch time = 46.518s\n"
          ]
        }
      ],
      "source": [
        "from timeit import default_timer as timer\n",
        "NUM_EPOCHS = 18\n",
        "\n",
        "for epoch in range(1, NUM_EPOCHS+1):\n",
        "    start_time = timer()\n",
        "    train_loss = train_epoch(transformer, optimizer)\n",
        "    end_time = timer()\n",
        "    val_loss = evaluate(transformer)\n",
        "    print((f\"Epoch: {epoch}, Train loss: {train_loss:.3f}, Val loss: {val_loss:.3f}, \"f\"Epoch time = {(end_time - start_time):.3f}s\"))\n",
        "\n"
      ]
    },
    {
      "cell_type": "code",
      "execution_count": 11,
      "metadata": {
        "id": "TLFGcxwF5kNh"
      },
      "outputs": [],
      "source": [
        "# function to generate output sequence using greedy algorithm\n",
        "def greedy_decode(model, src, src_mask, max_len, start_symbol):\n",
        "    src = src.to(DEVICE)\n",
        "    src_mask = src_mask.to(DEVICE)\n",
        "\n",
        "    memory = model.encode(src, src_mask)\n",
        "    ys = torch.ones(1, 1).fill_(start_symbol).type(torch.long).to(DEVICE)\n",
        "    for i in range(max_len-1):\n",
        "        memory = memory.to(DEVICE)\n",
        "        tgt_mask = (generate_square_subsequent_mask(ys.size(0))\n",
        "                    .type(torch.bool)).to(DEVICE)\n",
        "\n",
        "        out = model.decode(ys, memory, tgt_mask)\n",
        "        out = out.transpose(0, 1)\n",
        "        #decoder prediction\n",
        "        prob = model.generator(out[:, -1])\n",
        "        #greedy selection\n",
        "        _, next_word = torch.max(prob, dim=1)\n",
        "        next_word = next_word.item()\n",
        "\n",
        "        ys = torch.cat([ys,\n",
        "                        torch.ones(1, 1).type_as(src.data).fill_(next_word)], dim=0)\n",
        "        if next_word == EOS_IDX:\n",
        "            break\n",
        "    return ys"
      ]
    },
    {
      "cell_type": "code",
      "execution_count": 83,
      "metadata": {
        "id": "akSnYbP-DH8v"
      },
      "outputs": [],
      "source": [
        "# actual function to translate input sentence into target language\n",
        "def translate(model: torch.nn.Module, src_sentence: str):\n",
        "    model.eval()\n",
        "    src = text_transform[SRC_LANGUAGE](src_sentence).view(-1, 1)\n",
        "    num_tokens = src.shape[0]\n",
        "    src_mask = (torch.zeros(num_tokens, num_tokens)).type(torch.bool)\n",
        "    tgt_tokens = greedy_decode(\n",
        "        model,  src, src_mask, max_len=num_tokens + 5, start_symbol=BOS_IDX).flatten()\n",
        "    return \" \".join(vocab_transform[TGT_LANGUAGE].lookup_tokens(list(tgt_tokens.cpu().numpy()))).replace(\"<bos>\", \"\").replace(\"<eos>\", \"\")"
      ]
    },
    {
      "cell_type": "code",
      "execution_count": 84,
      "metadata": {
        "colab": {
          "base_uri": "https://localhost:8080/"
        },
        "id": "Gg9nB3CjSUre",
        "outputId": "35dd6e40-fe31-4cbd-b7e4-3eb92d9c0f69"
      },
      "outputs": [
        {
          "name": "stdout",
          "output_type": "stream",
          "text": [
            " The dog is running on the street . \n"
          ]
        }
      ],
      "source": [
        "print(translate(transformer, \"Der Hund läuft auf der Straße\"))"
      ]
    },
    {
      "cell_type": "markdown",
      "metadata": {
        "id": "DfueE1et8Ijt"
      },
      "source": [
        "## Decoding functions"
      ]
    },
    {
      "cell_type": "markdown",
      "metadata": {
        "id": "277X8P7M3_MN"
      },
      "source": [
        "#### 1. Top-K sampling\n",
        "Top-K sampling where the K next words are filtered and the probability mass is redistributed among only those K next words. GPT2 adopted this sampling scheme, which was one of the reasons for its success in story generation."
      ]
    },
    {
      "cell_type": "code",
      "execution_count": 71,
      "metadata": {
        "id": "vwaMkugBykRg"
      },
      "outputs": [],
      "source": [
        "def topk_decode(model, src, src_mask, max_len, start_symbol, k):\n",
        "    \"\"\"\n",
        "    model - model\n",
        "    max_len - max length of the output\n",
        "    k - k number next words\n",
        "    \"\"\"\n",
        "    src = src.to(DEVICE)\n",
        "    src_mask = src_mask.to(DEVICE)\n",
        "\n",
        "    memory = model.encode(src, src_mask)\n",
        "    ys = torch.ones(1, 1).fill_(start_symbol).type(torch.long).to(DEVICE)\n",
        "    for i in range(max_len-1):\n",
        "        memory = memory.to(DEVICE)\n",
        "        tgt_mask = (generate_square_subsequent_mask(ys.size(0))\n",
        "                    .type(torch.bool)).to(DEVICE)\n",
        "\n",
        "        #decode in ys the tgt_mask\n",
        "        out = model.decode(ys, memory, tgt_mask)\n",
        "        out = out.transpose(0, 1)\n",
        "        prob = model.generator(out[:, -1])\n",
        "\n",
        "        #softmax the probability to normalize TODO\n",
        "        prob = torch.softmax(prob, dim=1)\n",
        "        \n",
        "        #topk selection\n",
        "        k_prob, k_index = torch.topk(prob, k=k, dim=1)\n",
        "        multi_index = torch.multinomial(k_prob, num_samples=1)\n",
        "        \n",
        "        #choosing next_word\n",
        "        next_word = k_index[0][multi_index].item()\n",
        "        ys = torch.cat([ys,\n",
        "                        torch.ones(1, 1).type_as(src.data).fill_(next_word)], dim=0)\n",
        "\n",
        "        if next_word == EOS_IDX:\n",
        "            break\n",
        "    return ys"
      ]
    },
    {
      "cell_type": "code",
      "execution_count": 72,
      "metadata": {
        "id": "o8507sRv8Iju"
      },
      "outputs": [],
      "source": [
        "# actual function to translate input sentence into target language\n",
        "def translate_topk(model: torch.nn.Module, src_sentence: str):\n",
        "    model.eval()\n",
        "    src = text_transform[SRC_LANGUAGE](src_sentence).view(-1, 1)\n",
        "    num_tokens = src.shape[0]\n",
        "    src_mask = (torch.zeros(num_tokens, num_tokens)).type(torch.bool)\n",
        "    tgt_tokens = topk_decode(model,  src, src_mask, max_len=num_tokens + 5, start_symbol=BOS_IDX, k=5).flatten()\n",
        "    return \" \".join(vocab_transform[TGT_LANGUAGE].lookup_tokens(list(tgt_tokens.cpu().numpy()))).replace(\"<bos>\", \"\").replace(\"<eos>\", \"\")"
      ]
    },
    {
      "cell_type": "markdown",
      "metadata": {
        "id": "PFye8WBr1UbN"
      },
      "source": [
        "When testing on some sentence we get a pretty decent result :"
      ]
    },
    {
      "cell_type": "code",
      "execution_count": 73,
      "metadata": {
        "colab": {
          "base_uri": "https://localhost:8080/"
        },
        "id": "AHryNhUiKV8m",
        "outputId": "7aaa6ab8-86a1-4908-a3e7-e199b1609091"
      },
      "outputs": [
        {
          "name": "stdout",
          "output_type": "stream",
          "text": [
            " A girl playing n't be does not not doing a piano .\n",
            " The dog is running on the street . \n",
            " A group of people standing in front of an anvil . \n"
          ]
        }
      ],
      "source": [
        "print(translate_topk(transformer, \"Ein Mädchen spielt nicht gern Klavier\"))\n",
        "print(translate_topk(transformer, \"Der Hund läuft auf der Straße\"))\n",
        "print(translate_topk(transformer, \"Eine Gruppe von Menschen steht vor einem Iglu .\"))"
      ]
    },
    {
      "cell_type": "code",
      "execution_count": 74,
      "metadata": {
        "id": "nHmZyBrhyu8J"
      },
      "outputs": [],
      "source": [
        "def topk_decode_temperature(model, src, src_mask, max_len, start_symbol, k, temperature):\n",
        "    \"\"\"\n",
        "    model - model\n",
        "    max_len - max length of the output\n",
        "    k - k number next words\n",
        "    temeprature - \n",
        "    \"\"\"\n",
        "    src = src.to(DEVICE)\n",
        "    src_mask = src_mask.to(DEVICE)\n",
        "\n",
        "    memory = model.encode(src, src_mask)\n",
        "    ys = torch.ones(1, 1).fill_(start_symbol).type(torch.long).to(DEVICE)\n",
        "    for i in range(max_len-1):\n",
        "        memory = memory.to(DEVICE)\n",
        "        tgt_mask = (generate_square_subsequent_mask(ys.size(0))\n",
        "                    .type(torch.bool)).to(DEVICE)\n",
        "\n",
        "        #decode in ys the tgt_mask\n",
        "        out = model.decode(ys, memory, tgt_mask)\n",
        "        out = out.transpose(0, 1)\n",
        "        prob = model.generator(out[:, -1])\n",
        "\n",
        "        #softmax the probability to normalize TODO\n",
        "        prob = torch.softmax(prob, dim=1)\n",
        "        \n",
        "        #topk selection\n",
        "        top_k_prob, top_k_index = torch.topk(prob / temperature, k=k, dim=1)\n",
        "        multi_index = torch.multinomial(top_k_prob, num_samples=1)\n",
        "        \n",
        "        #choosing next_word\n",
        "        next_word = top_k_index[0][multi_index].item()\n",
        "        ys = torch.cat([ys,\n",
        "                        torch.ones(1, 1).type_as(src.data).fill_(next_word)], dim=0)\n",
        "\n",
        "        if next_word == EOS_IDX:\n",
        "            break\n",
        "    return ys"
      ]
    },
    {
      "cell_type": "code",
      "execution_count": 75,
      "metadata": {
        "id": "2jNyAX7W2jiA"
      },
      "outputs": [],
      "source": [
        "# actual function to translate input sentence into target language\n",
        "def translate_topk_temperature(model: torch.nn.Module, src_sentence: str):\n",
        "    model.eval()\n",
        "    src = text_transform[SRC_LANGUAGE](src_sentence).view(-1, 1)\n",
        "    num_tokens = src.shape[0]\n",
        "    src_mask = (torch.zeros(num_tokens, num_tokens)).type(torch.bool)\n",
        "    tgt_tokens = topk_decode_temperature(model,  src, src_mask, max_len=num_tokens + 5, start_symbol=BOS_IDX, k=5, temperature=0.5).flatten()\n",
        "    return \" \".join(vocab_transform[TGT_LANGUAGE].lookup_tokens(list(tgt_tokens.cpu().numpy()))).replace(\"<bos>\", \"\").replace(\"<eos>\", \"\")"
      ]
    },
    {
      "cell_type": "code",
      "execution_count": 76,
      "metadata": {
        "colab": {
          "base_uri": "https://localhost:8080/"
        },
        "id": "9Cio2tSS2qoI",
        "outputId": "eeb070b4-fc43-431c-b63a-c24c153f13cb"
      },
      "outputs": [
        {
          "name": "stdout",
          "output_type": "stream",
          "text": [
            " A girl plays music that is not performing a piano . \n",
            " The dog is running on the street . \n",
            " A group of people standing in front an anvil . \n"
          ]
        }
      ],
      "source": [
        "print(translate_topk_temperature(transformer, \"Ein Mädchen spielt nicht gern Klavier\"))\n",
        "print(translate_topk_temperature(transformer, \"Der Hund läuft auf der Straße\"))\n",
        "print(translate_topk_temperature(transformer, \"Eine Gruppe von Menschen steht vor einem Iglu .\"))"
      ]
    },
    {
      "cell_type": "markdown",
      "metadata": {
        "id": "koHeUVeH3omJ"
      },
      "source": [
        "#### 2. Beam search "
      ]
    },
    {
      "cell_type": "code",
      "execution_count": 77,
      "metadata": {
        "id": "mkHgmVjFBIUz"
      },
      "outputs": [],
      "source": [
        "def create_branch(memory, ys, prob):\n",
        "  return {\n",
        "            \"memory\": memory,\n",
        "            \"ys\": ys,\n",
        "            \"prob\": prob\n",
        "        }"
      ]
    },
    {
      "cell_type": "code",
      "execution_count": 82,
      "metadata": {
        "colab": {
          "base_uri": "https://localhost:8080/",
          "height": 131
        },
        "id": "FPNUi_cR2xBQ",
        "outputId": "bc28bb8e-119c-4750-c1ff-91946b426c4a"
      },
      "outputs": [
        {
          "ename": "SyntaxError",
          "evalue": "ignored",
          "output_type": "error",
          "traceback": [
            "\u001b[0;36m  File \u001b[0;32m\"<ipython-input-82-bc0cf676ff06>\"\u001b[0;36m, line \u001b[0;32m62\u001b[0m\n\u001b[0;31m    new_branch = sorted(new_branch, key=lambda x: x[\"prob\"], reverse=True)\u001b[0m\n\u001b[0m             ^\u001b[0m\n\u001b[0;31mSyntaxError\u001b[0m\u001b[0;31m:\u001b[0m invalid syntax\n"
          ]
        }
      ],
      "source": [
        "def beam_decode(model, src, src_mask, max_len, start_symbol, k):\n",
        "  src = src.to(DEVICE)\n",
        "  src_mask = src_mask.to(DEVICE)\n",
        "\n",
        "  memory = model.encode(src, src_mask)\n",
        "  # ---------- init\n",
        "\n",
        "  ys = torch.ones(1, 1).fill_(start_symbol).type(torch.long).to(DEVICE)\n",
        "  #first run\n",
        "  memory = memory.to(DEVICE)\n",
        "  tgt_mask = (generate_square_subsequent_mask(ys.size(0))\n",
        "              .type(torch.bool)).to(DEVICE)\n",
        "\n",
        "  #decode in ys the tgt_mask\n",
        "  out = model.decode(ys, memory, tgt_mask)\n",
        "  out = out.transpose(0, 1)\n",
        "  prob = model.generator(out[:, -1])\n",
        "\n",
        "  #softmax the probability to normalize TODO\n",
        "  prob = torch.softmax(prob, dim=1)\n",
        "  \n",
        "  #topk selection\n",
        "  k_prob, k_index = torch.topk(prob, k=k, dim=1)\n",
        "  multi_index = torch.multinomial(k_prob, num_samples=1)\n",
        "  score = torch.multinomial(k_prob, 1).item()\n",
        "  \n",
        "  #choosing next_word\n",
        "  next_word = k_index[0][multi_index].item()\n",
        "  ys = torch.cat([ys,\n",
        "                  torch.ones(1, 1).type_as(src.data).fill_(next_word)], dim=0)\n",
        "  if next_word == EOS_IDX:\n",
        "    return ys\n",
        "  # ---------- init\n",
        "  \n",
        "  branch = [create_branch(memory, ys, score)] * k\n",
        "  \n",
        "  for i in range(max_len-1):\n",
        "    new_branch = []\n",
        "    for actual in branch:\n",
        "      memory = actual[\"memory\"]\n",
        "      memory = memory.to(DEVICE)\n",
        "\n",
        "      ys = actual[\"ys\"]\n",
        "      \n",
        "      # ---------- \n",
        "      tgt_mask = (generate_square_subsequent_mask(ys.size(0))\n",
        "                  .type(torch.bool)).to(DEVICE)\n",
        "      out = model.decode(ys, memory, tgt_mask)\n",
        "      out = out.transpose(0, 1)\n",
        "      prob = model.generator(out[:, -1])\n",
        "      prob = torch.softmax(prob, dim=1)\n",
        "      k_prob, k_index = torch.topk(prob, k=k, dim=1)\n",
        "      # ----------\n",
        "\n",
        "      ys = torch.cat([ys, \n",
        "                      torch.ones(1, 1).type_as(src.data).fill_(next_word)], \n",
        "                      dim=0)\n",
        "      \n",
        "      for j in range(k):\n",
        "        next_word = k_index[0][j].item()\n",
        "        new_branch.append(create_branch(memory, ys, actual[\"prob\"] * torch.multinomial(k_prob, 1).item())\n",
        "      new_branch = sorted(new_branch, key=lambda x: x[\"prob\"], reverse=True)\n",
        "      branch = new_branch[:k]\n",
        "      if branch[0][\"ys\"][-1] == EOS_IDX:\n",
        "        break\n",
        "  return branch[0][\"ys\"]"
      ]
    },
    {
      "cell_type": "code",
      "execution_count": 134,
      "metadata": {
        "id": "sztKM_JPCLL8"
      },
      "outputs": [],
      "source": [
        "def beam_decode2(model, src, src_mask, max_len, start_symbol, k=5):\n",
        "    \"\"\"\n",
        "      src: source sentence\n",
        "      src_mask: source mask\n",
        "      max_len: maximum length of output sentence\n",
        "      k: beam size\n",
        "    \"\"\"\n",
        "    src = src.to(DEVICE)\n",
        "    src_mask = src_mask.to(DEVICE)\n",
        "\n",
        "    memory = model.encode(src, src_mask)\n",
        "\n",
        "    # simple topk to get a first prob\n",
        "    ys = torch.ones(1, 1).fill_(start_symbol).type(torch.long).to(DEVICE)\n",
        "    memory = memory.to(DEVICE)\n",
        "    tgt_mask = (generate_square_subsequent_mask(ys.size(0))\n",
        "                .type(torch.bool)).to(DEVICE)\n",
        "    out = model.decode(ys, memory, tgt_mask)\n",
        "    out = out.transpose(0, 1)\n",
        "    prob = model.generator(out[:, -1])\n",
        "    prob = torch.softmax(prob, dim=1)\n",
        "    k_prob, k_index = torch.topk(prob, k=k, dim=1)\n",
        "    random_index = torch.multinomial(k_prob, 1)\n",
        "        \n",
        "    next_word = k_index[0][random_index].item()\n",
        "    ys = torch.cat([ys,\n",
        "                    torch.ones(1, 1).type_as(src.data).fill_(next_word)], dim=0)\n",
        "    if next_word == EOS_IDX:\n",
        "        return ys\n",
        "\n",
        "    # initialize the rest of the branch\n",
        "    init_branch = {\n",
        "            \"memory\": memory,\n",
        "            \"ys\": ys,\n",
        "            \"score\": torch.multinomial(k_prob, 1).item()\n",
        "        }\n",
        "    branch = [init_branch] * k\n",
        "\n",
        "    for i in range(max_len-1):\n",
        "        new_branch = []\n",
        "        for elt in branch:\n",
        "            memory = elt[\"memory\"].to(DEVICE)\n",
        "            ys = elt[\"ys\"]\n",
        "            \n",
        "            tgt_mask = (generate_square_subsequent_mask(ys.size(0))\n",
        "                        .type(torch.bool)).to(DEVICE)\n",
        "            out = model.decode(ys, memory, tgt_mask)\n",
        "            out = out.transpose(0, 1)\n",
        "            prob = model.generator(out[:, -1])\n",
        "            prob = torch.softmax(prob, dim=1)\n",
        "            k_prob, k_index = torch.topk(prob, k=k, dim=1)\n",
        "            score = torch.multinomial(k_prob, 1).item()\n",
        "\n",
        "            for j in range(k):\n",
        "                next_word = k_index[0][j].item()\n",
        "                new_branch.append({\n",
        "                    \"memory\": memory,\n",
        "                    \"ys\": torch.cat([ys,\n",
        "                    torch.ones(1, 1).type_as(src.data).fill_(next_word)], dim=0),\n",
        "                    \"score\": elt[\"score\"] * score})\n",
        "        #sort the list of all new branch \n",
        "        new_branch = sorted(new_branch, key=lambda x: x[\"score\"], reverse=True)\n",
        "        branch = new_branch[:k]\n",
        "        ys = branch[0][\"ys\"]\n",
        "\n",
        "        if ys[-1] == EOS_IDX:\n",
        "            break\n",
        "        \n",
        "    return ys"
      ]
    },
    {
      "cell_type": "code",
      "execution_count": 135,
      "metadata": {
        "id": "GltamCFcDC8c"
      },
      "outputs": [],
      "source": [
        "# actual function to translate input sentence into target language\n",
        "def translate_beam(model: torch.nn.Module, src_sentence: str):\n",
        "    model.eval()\n",
        "    src = text_transform[SRC_LANGUAGE](src_sentence).view(-1, 1)\n",
        "    num_tokens = src.shape[0]\n",
        "    src_mask = (torch.zeros(num_tokens, num_tokens)).type(torch.bool)\n",
        "    tgt_tokens = beam_decode2(\n",
        "        model,  src, src_mask, max_len=num_tokens + 5, start_symbol=BOS_IDX, k=5).flatten()\n",
        "    return \" \".join(vocab_transform[TGT_LANGUAGE].lookup_tokens(list(tgt_tokens.cpu().numpy()))).replace(\"<bos>\", \"\").replace(\"<eos>\", \"\")"
      ]
    },
    {
      "cell_type": "code",
      "execution_count": 138,
      "metadata": {
        "colab": {
          "base_uri": "https://localhost:8080/"
        },
        "id": "EJ9LY0RZGeNs",
        "outputId": "d29d1ce6-a9fa-4e35-9a05-cd1717bb13bc"
      },
      "outputs": [
        {
          "name": "stdout",
          "output_type": "stream",
          "text": [
            " The dog is running on the street . \n"
          ]
        }
      ],
      "source": [
        "print(translate_beam(transformer, \"Der Hund läuft auf der Straße\"))"
      ]
    },
    {
      "cell_type": "markdown",
      "metadata": {
        "id": "GN7ThpMRMOL8"
      },
      "source": [
        "### 3. Comparison between the decoding functions"
      ]
    },
    {
      "cell_type": "code",
      "execution_count": 142,
      "metadata": {
        "id": "eebDDYEJGrV9"
      },
      "outputs": [],
      "source": [
        "sentences = [\"Ich schlafe gerade nicht viel\",\n",
        "             \"Abends geht das Licht auf der Straße aus\",\n",
        "             \"Schau in den Himmel und sieh\"]\n",
        "traduction = [\"I'm not sleeping much right now\",\n",
        "              \"In the evening the lights go out on the street\",\n",
        "              \"Look up to the sky and see\"]"
      ]
    },
    {
      "cell_type": "code",
      "execution_count": 1,
      "metadata": {
        "colab": {
          "base_uri": "https://localhost:8080/",
          "height": 235
        },
        "id": "HaTZOUsaNbeI",
        "outputId": "f0174eb4-8f29-4d5d-c687-e08ba46d6138"
      },
      "outputs": [
        {
          "ename": "NameError",
          "evalue": "ignored",
          "output_type": "error",
          "traceback": [
            "\u001b[0;31m---------------------------------------------------------------------------\u001b[0m",
            "\u001b[0;31mNameError\u001b[0m                                 Traceback (most recent call last)",
            "\u001b[0;32m<ipython-input-1-7577a427c572>\u001b[0m in \u001b[0;36m<module>\u001b[0;34m\u001b[0m\n\u001b[1;32m      1\u001b[0m \u001b[0;32mfor\u001b[0m \u001b[0mi\u001b[0m \u001b[0;32min\u001b[0m \u001b[0mrange\u001b[0m\u001b[0;34m(\u001b[0m\u001b[0;36m3\u001b[0m\u001b[0;34m)\u001b[0m\u001b[0;34m:\u001b[0m\u001b[0;34m\u001b[0m\u001b[0;34m\u001b[0m\u001b[0m\n\u001b[0;32m----> 2\u001b[0;31m   \u001b[0mprint\u001b[0m\u001b[0;34m(\u001b[0m\u001b[0;34m\"traduction ->\"\u001b[0m\u001b[0;34m,\u001b[0m \u001b[0mtraduction\u001b[0m\u001b[0;34m[\u001b[0m\u001b[0mi\u001b[0m\u001b[0;34m]\u001b[0m\u001b[0;34m)\u001b[0m\u001b[0;34m\u001b[0m\u001b[0;34m\u001b[0m\u001b[0m\n\u001b[0m\u001b[1;32m      3\u001b[0m   \u001b[0mprint\u001b[0m\u001b[0;34m(\u001b[0m\u001b[0;34m\"Greedy decoder -\"\u001b[0m\u001b[0;34m,\u001b[0m\u001b[0mtranslate\u001b[0m\u001b[0;34m(\u001b[0m\u001b[0mtransformer\u001b[0m\u001b[0;34m,\u001b[0m \u001b[0msentences\u001b[0m\u001b[0;34m[\u001b[0m\u001b[0mi\u001b[0m\u001b[0;34m]\u001b[0m\u001b[0;34m)\u001b[0m\u001b[0;34m)\u001b[0m\u001b[0;34m\u001b[0m\u001b[0;34m\u001b[0m\u001b[0m\n\u001b[1;32m      4\u001b[0m   \u001b[0mprint\u001b[0m\u001b[0;34m(\u001b[0m\u001b[0;34m\"Topk decoder -\"\u001b[0m\u001b[0;34m,\u001b[0m\u001b[0mtranslate_topk\u001b[0m\u001b[0;34m(\u001b[0m\u001b[0mtransformer\u001b[0m\u001b[0;34m,\u001b[0m \u001b[0msentences\u001b[0m\u001b[0;34m[\u001b[0m\u001b[0mi\u001b[0m\u001b[0;34m]\u001b[0m\u001b[0;34m)\u001b[0m\u001b[0;34m)\u001b[0m\u001b[0;34m\u001b[0m\u001b[0;34m\u001b[0m\u001b[0m\n\u001b[1;32m      5\u001b[0m   \u001b[0mprint\u001b[0m\u001b[0;34m(\u001b[0m\u001b[0;34m\"Topk temperature = 5 decoder -\"\u001b[0m\u001b[0;34m,\u001b[0m\u001b[0mtranslate_topk_temperature\u001b[0m\u001b[0;34m(\u001b[0m\u001b[0mtransformer\u001b[0m\u001b[0;34m,\u001b[0m \u001b[0msentences\u001b[0m\u001b[0;34m[\u001b[0m\u001b[0mi\u001b[0m\u001b[0;34m]\u001b[0m\u001b[0;34m)\u001b[0m\u001b[0;34m)\u001b[0m\u001b[0;34m\u001b[0m\u001b[0;34m\u001b[0m\u001b[0m\n",
            "\u001b[0;31mNameError\u001b[0m: name 'traduction' is not defined"
          ]
        }
      ],
      "source": [
        "for i in range(3):\n",
        "  print(\"traduction ->\", traduction[i])\n",
        "  print(\"Greedy decoder -\",translate(transformer, sentences[i]))\n",
        "  print(\"Topk decoder -\",translate_topk(transformer, sentences[i]))\n",
        "  print(\"Topk temperature = 5 decoder -\",translate_topk_temperature(transformer, sentences[i]))\n",
        "  print(\"Beam decoder -\",translate_beam(transformer, sentences[i]), end=\"\\n\\n\")"
      ]
    },
    {
      "cell_type": "code",
      "execution_count": null,
      "metadata": {
        "id": "8oVY_HzTO3vf"
      },
      "outputs": [],
      "source": []
    }
  ],
  "metadata": {
    "accelerator": "GPU",
    "colab": {
      "collapsed_sections": [
        "277X8P7M3_MN"
      ],
      "provenance": []
    },
    "gpuClass": "standard",
    "kernelspec": {
      "display_name": "Python 3.10.4 64-bit",
      "language": "python",
      "name": "python3"
    },
    "language_info": {
      "codemirror_mode": {
        "name": "ipython",
        "version": 3
      },
      "file_extension": ".py",
      "mimetype": "text/x-python",
      "name": "python",
      "nbconvert_exporter": "python",
      "pygments_lexer": "ipython3",
      "version": "3.10.4"
    },
    "orig_nbformat": 4,
    "vscode": {
      "interpreter": {
        "hash": "5f761ed62b3816e49cb11fdd2f71acd4baf071d655006f016f714fd3225f29c0"
      }
    }
  },
  "nbformat": 4,
  "nbformat_minor": 0
}
