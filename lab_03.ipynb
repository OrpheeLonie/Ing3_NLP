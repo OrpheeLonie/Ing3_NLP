{
 "cells": [
  {
   "cell_type": "markdown",
   "metadata": {},
   "source": [
    "# Lab 03 - Introduction to Natural Language Processing 01"
   ]
  },
  {
   "cell_type": "markdown",
   "metadata": {},
   "source": [
    "## FastText"
   ]
  },
  {
   "cell_type": "markdown",
   "metadata": {},
   "source": [
    "### Question 1"
   ]
  },
  {
   "cell_type": "code",
   "execution_count": null,
   "metadata": {},
   "outputs": [],
   "source": [
    "from datasets import load_dataset\n",
    "\n",
    "dataset = load_dataset(\"imdb\")\n",
    "dataset"
   ]
  },
  {
   "cell_type": "code",
   "execution_count": null,
   "metadata": {},
   "outputs": [],
   "source": [
    "dataset_shuffle = dataset.shuffle(seed=42)"
   ]
  },
  {
   "cell_type": "code",
   "execution_count": null,
   "metadata": {},
   "outputs": [],
   "source": [
    "import fasttext"
   ]
  },
  {
   "cell_type": "code",
   "execution_count": null,
   "metadata": {},
   "outputs": [],
   "source": [
    "from lib.util import lower_and_remove_punctuation\n",
    "\n",
    "def format_for_fasttext(dataset_key : str):\n",
    "    \"\"\"TODO\n",
    "    \"\"\"\n",
    "    with open(dataset_key + \".txt\", 'w', encoding=\"utf-8\") as f:\n",
    "        def write_to_file(element : dict) -> dict:\n",
    "            \"\"\"TODO\n",
    "            \"\"\"\n",
    "            f.write(\"__label__\" + str(element['label']) + \" \" +  lower_and_remove_punctuation(element)['text'] + '\\n')\n",
    "            return element\n",
    "\n",
    "        dataset_shuffle[dataset_key].map(write_to_file, load_from_cache_file=False)"
   ]
  },
  {
   "cell_type": "code",
   "execution_count": null,
   "metadata": {},
   "outputs": [],
   "source": [
    "format_for_fasttext('train')\n",
    "format_for_fasttext('test')"
   ]
  },
  {
   "cell_type": "markdown",
   "metadata": {},
   "source": [
    "### Question 2"
   ]
  },
  {
   "cell_type": "code",
   "execution_count": null,
   "metadata": {},
   "outputs": [],
   "source": [
    "model = fasttext.train_supervised(\"train.txt\")\n",
    "model"
   ]
  },
  {
   "cell_type": "code",
   "execution_count": null,
   "metadata": {},
   "outputs": [],
   "source": [
    "model.test_label(\"test.txt\")"
   ]
  },
  {
   "cell_type": "markdown",
   "metadata": {},
   "source": [
    "### Question 3"
   ]
  },
  {
   "cell_type": "code",
   "execution_count": null,
   "metadata": {},
   "outputs": [],
   "source": [
    "ratio = 0.2\n",
    "num_rows = dataset[\"train\"].num_rows\n",
    "\n",
    "with open(\"train.txt\") as input:\n",
    "    lines = input.readlines()\n",
    "\n",
    "    with open(\"validation.txt\", \"w\") as validation:\n",
    "        for l in lines[: int(ratio * num_rows)]:\n",
    "            validation.write(l)\n",
    "\n",
    "    with open(\"train2.txt\", \"w\", encoding=\"utf-8\") as train:\n",
    "        for l in lines[int(ratio * num_rows): ]:\n",
    "            train.write(l)"
   ]
  },
  {
   "cell_type": "code",
   "execution_count": null,
   "metadata": {},
   "outputs": [],
   "source": [
    "model_autotuned = fasttext.train_supervised(input='train2.txt', autotuneValidationFile='validation.txt')"
   ]
  },
  {
   "cell_type": "code",
   "execution_count": null,
   "metadata": {},
   "outputs": [],
   "source": [
    "model_autotuned.test_label(\"test.txt\")"
   ]
  },
  {
   "cell_type": "markdown",
   "metadata": {},
   "source": [
    "### Question 4"
   ]
  },
  {
   "cell_type": "code",
   "execution_count": null,
   "metadata": {},
   "outputs": [],
   "source": [
    "model.test_label(\"test.txt\")"
   ]
  },
  {
   "cell_type": "code",
   "execution_count": null,
   "metadata": {},
   "outputs": [],
   "source": [
    "model_autotuned.test_label(\"test.txt\")"
   ]
  },
  {
   "cell_type": "code",
   "execution_count": null,
   "metadata": {},
   "outputs": [],
   "source": []
  }
 ],
 "metadata": {
  "kernelspec": {
   "display_name": "Python 3.10.6 ('venv': venv)",
   "language": "python",
   "name": "python3"
  },
  "language_info": {
   "codemirror_mode": {
    "name": "ipython",
    "version": 3
   },
   "file_extension": ".py",
   "mimetype": "text/x-python",
   "name": "python",
   "nbconvert_exporter": "python",
   "pygments_lexer": "ipython3",
   "version": "3.10.6"
  },
  "orig_nbformat": 4,
  "vscode": {
   "interpreter": {
    "hash": "997ad1420b6b0c9e7b1b439f118c1a8b873a3bdb035e288815e3230309572cf3"
   }
  }
 },
 "nbformat": 4,
 "nbformat_minor": 2
}
