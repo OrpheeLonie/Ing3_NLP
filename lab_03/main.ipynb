{
 "cells": [
  {
   "cell_type": "markdown",
   "metadata": {},
   "source": [
    "# Lab 03 - Introduction to Natural Language Processing 01"
   ]
  },
  {
   "cell_type": "markdown",
   "metadata": {},
   "source": [
    "## FastText"
   ]
  },
  {
   "cell_type": "markdown",
   "metadata": {},
   "source": [
    "### Question 1"
   ]
  },
  {
   "cell_type": "code",
   "execution_count": null,
   "metadata": {},
   "outputs": [],
   "source": [
    "from datasets import load_dataset\n",
    "\n",
    "dataset = load_dataset(\"imdb\")\n",
    "dataset"
   ]
  },
  {
   "cell_type": "code",
   "execution_count": null,
   "metadata": {},
   "outputs": [],
   "source": [
    "import fasttext"
   ]
  },
  {
   "cell_type": "code",
   "execution_count": null,
   "metadata": {},
   "outputs": [],
   "source": [
    "def format_for_fasttext(dataset_key : str):\n",
    "    \"\"\"TODO\n",
    "    \"\"\"\n",
    "    with open(dataset_key + \".txt\", 'w', encoding=\"utf-8\") as f:\n",
    "        def write_to_file(element : dict) -> dict:\n",
    "            \"\"\"TODO\n",
    "            \"\"\"\n",
    "            f.write(\"__label__\" + str(element['label']) + \" \" +  element['text'] + '\\n')\n",
    "            return element\n",
    "\n",
    "        dataset[dataset_key].map(write_to_file)"
   ]
  },
  {
   "cell_type": "code",
   "execution_count": null,
   "metadata": {},
   "outputs": [],
   "source": [
    "format_for_fasttext('train')\n",
    "format_for_fasttext('test')"
   ]
  },
  {
   "cell_type": "code",
   "execution_count": null,
   "metadata": {},
   "outputs": [],
   "source": [
    "fasttext.train_supervised(\"train.txt\")"
   ]
  },
  {
   "cell_type": "code",
   "execution_count": null,
   "metadata": {},
   "outputs": [],
   "source": []
  }
 ],
 "metadata": {
  "kernelspec": {
   "display_name": "Python 3.10.6 ('venv': venv)",
   "language": "python",
   "name": "python3"
  },
  "language_info": {
   "codemirror_mode": {
    "name": "ipython",
    "version": 3
   },
   "file_extension": ".py",
   "mimetype": "text/x-python",
   "name": "python",
   "nbconvert_exporter": "python",
   "pygments_lexer": "ipython3",
   "version": "3.10.6"
  },
  "orig_nbformat": 4,
  "vscode": {
   "interpreter": {
    "hash": "997ad1420b6b0c9e7b1b439f118c1a8b873a3bdb035e288815e3230309572cf3"
   }
  }
 },
 "nbformat": 4,
 "nbformat_minor": 2
}
